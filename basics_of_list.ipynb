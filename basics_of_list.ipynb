{
  "nbformat": 4,
  "nbformat_minor": 0,
  "metadata": {
    "colab": {
      "provenance": [],
      "authorship_tag": "ABX9TyP/Pw06VrsHz6Y1jrJThW8I",
      "include_colab_link": true
    },
    "kernelspec": {
      "name": "python3",
      "display_name": "Python 3"
    },
    "language_info": {
      "name": "python"
    }
  },
  "cells": [
    {
      "cell_type": "markdown",
      "metadata": {
        "id": "view-in-github",
        "colab_type": "text"
      },
      "source": [
        "<a href=\"https://colab.research.google.com/github/mansooraha/landing-page-with-chatbot/blob/main/basics_of_list.ipynb\" target=\"_parent\"><img src=\"https://colab.research.google.com/assets/colab-badge.svg\" alt=\"Open In Colab\"/></a>"
      ]
    },
    {
      "cell_type": "code",
      "execution_count": 3,
      "metadata": {
        "colab": {
          "base_uri": "https://localhost:8080/"
        },
        "id": "eLlf89fJBe13",
        "outputId": "198b8e73-6675-4b71-c932-ddd3657ac7ce"
      },
      "outputs": [
        {
          "output_type": "stream",
          "name": "stdout",
          "text": [
            "F_result 24\n"
          ]
        }
      ],
      "source": [
        "numbers = [2, 3, 4]\n",
        "result = 1\n",
        "\n",
        "for num in numbers:\n",
        "    result *= num\n",
        "\n",
        "print(\"F_result\", result)\n"
      ]
    },
    {
      "cell_type": "code",
      "source": [
        "numbers = [8, 4, 5, 5, 9]\n",
        "smallest = numbers[0]\n",
        "\n",
        "for num in numbers:\n",
        "    if num < smallest:\n",
        "        smallest = num\n",
        "\n",
        "print(\"Smallest number\", smallest)\n"
      ],
      "metadata": {
        "colab": {
          "base_uri": "https://localhost:8080/"
        },
        "id": "mbsadL2vCF5y",
        "outputId": "cf672909-f039-4d14-e3ab-82b3549208f7"
      },
      "execution_count": 7,
      "outputs": [
        {
          "output_type": "stream",
          "name": "stdout",
          "text": [
            "Smallest number 4\n"
          ]
        }
      ]
    },
    {
      "cell_type": "code",
      "source": [
        "items = [\"w22exsc\"]\n",
        "\n",
        "if len(items) == 0:\n",
        "    print(\"The list is empty\")\n",
        "else:\n",
        "    print(\"The list is not empty\")\n"
      ],
      "metadata": {
        "colab": {
          "base_uri": "https://localhost:8080/"
        },
        "id": "uwvpHzyuCapx",
        "outputId": "5e05762d-eb31-47b5-87e1-bfc5c149ba8d"
      },
      "execution_count": 11,
      "outputs": [
        {
          "output_type": "stream",
          "name": "stdout",
          "text": [
            "The list is not empty\n"
          ]
        }
      ]
    }
  ]
}