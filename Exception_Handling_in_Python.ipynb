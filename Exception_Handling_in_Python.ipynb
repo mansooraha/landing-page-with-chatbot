{
  "nbformat": 4,
  "nbformat_minor": 0,
  "metadata": {
    "colab": {
      "provenance": [],
      "authorship_tag": "ABX9TyPJlodEjvy8DGL64TI3Q81D",
      "include_colab_link": true
    },
    "kernelspec": {
      "name": "python3",
      "display_name": "Python 3"
    },
    "language_info": {
      "name": "python"
    }
  },
  "cells": [
    {
      "cell_type": "markdown",
      "metadata": {
        "id": "view-in-github",
        "colab_type": "text"
      },
      "source": [
        "<a href=\"https://colab.research.google.com/github/mansooraha/landing-page-with-chatbot/blob/main/Exception_Handling_in_Python.ipynb\" target=\"_parent\"><img src=\"https://colab.research.google.com/assets/colab-badge.svg\" alt=\"Open In Colab\"/></a>"
      ]
    },
    {
      "cell_type": "markdown",
      "source": [
        "Given a list of integers, extract all numbers greater than 10."
      ],
      "metadata": {
        "id": "jALdzXSiBKs9"
      }
    },
    {
      "cell_type": "code",
      "source": [
        "try: a = 10; b = 0; print(a / b)\n",
        "except ZeroDivisionError: print(\"Error: Cannot divide by zero.\")\n"
      ],
      "metadata": {
        "colab": {
          "base_uri": "https://localhost:8080/"
        },
        "id": "M0iwJrQoA3vL",
        "outputId": "77246790-9743-4ec1-8b7f-0c200fcb614b"
      },
      "execution_count": 6,
      "outputs": [
        {
          "output_type": "stream",
          "name": "stdout",
          "text": [
            "Error: Cannot divide by zero.\n"
          ]
        }
      ]
    },
    {
      "cell_type": "markdown",
      "source": [
        "squares"
      ],
      "metadata": {
        "id": "yvR_xVGTBviE"
      }
    },
    {
      "cell_type": "code",
      "source": [
        "try: f = open(\"myfile.txt\", \"r\"); print(f.read()); f.close()\n",
        "except FileNotFoundError: print(\"Error: The file was not found.\")\n"
      ],
      "metadata": {
        "colab": {
          "base_uri": "https://localhost:8080/"
        },
        "id": "Egmabx50BYlI",
        "outputId": "aeeae2a5-7504-426d-8f56-5c4dc7867b20"
      },
      "execution_count": 7,
      "outputs": [
        {
          "output_type": "stream",
          "name": "stdout",
          "text": [
            "Error: The file was not found.\n"
          ]
        }
      ]
    },
    {
      "cell_type": "code",
      "source": [
        "try: num = int(input(\"Enter an integer: \"))\n",
        "except ValueError: print(\"Error: That was not a valid integer.\")\n"
      ],
      "metadata": {
        "colab": {
          "base_uri": "https://localhost:8080/"
        },
        "id": "YH0Im-dHE_Ov",
        "outputId": "8e4d5c03-f4ef-4b73-b5ff-819f816c51cf"
      },
      "execution_count": 10,
      "outputs": [
        {
          "name": "stdout",
          "output_type": "stream",
          "text": [
            "Enter an integer: 332\n"
          ]
        }
      ]
    },
    {
      "cell_type": "code",
      "source": [
        "try:\n",
        "  a = input(\"Enter first number: \"); b = input(\"Enter second number: \");\n",
        "  a = float(a); b = float(b)\n",
        "except ValueError:\n",
        "  raise TypeError(\"Error: Both inputs must be numbers.\")"
      ],
      "metadata": {
        "colab": {
          "base_uri": "https://localhost:8080/"
        },
        "id": "_HrMyRQdFIki",
        "outputId": "4a916e7a-4f1d-4ad6-b126-41597ac4e6aa"
      },
      "execution_count": 17,
      "outputs": [
        {
          "name": "stdout",
          "output_type": "stream",
          "text": [
            "Enter first number: 33\n",
            "Enter second number: 77\n"
          ]
        }
      ]
    }
  ]
}