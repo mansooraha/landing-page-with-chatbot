{
  "nbformat": 4,
  "nbformat_minor": 0,
  "metadata": {
    "colab": {
      "provenance": [],
      "authorship_tag": "ABX9TyOfxHdlPQ/4MAVgO2QMVEhR",
      "include_colab_link": true
    },
    "kernelspec": {
      "name": "python3",
      "display_name": "Python 3"
    },
    "language_info": {
      "name": "python"
    }
  },
  "cells": [
    {
      "cell_type": "markdown",
      "metadata": {
        "id": "view-in-github",
        "colab_type": "text"
      },
      "source": [
        "<a href=\"https://colab.research.google.com/github/mansooraha/landing-page-with-chatbot/blob/main/basics_of_oops_in_py.ipynb\" target=\"_parent\"><img src=\"https://colab.research.google.com/assets/colab-badge.svg\" alt=\"Open In Colab\"/></a>"
      ]
    },
    {
      "cell_type": "markdown",
      "source": [
        "circle class\n",
        "\n"
      ],
      "metadata": {
        "id": "p0ZCiNWJTALi"
      }
    },
    {
      "cell_type": "code",
      "execution_count": 16,
      "metadata": {
        "colab": {
          "base_uri": "https://localhost:8080/"
        },
        "id": "P9KVxijeS1Jn",
        "outputId": "46f52248-de9b-4ad9-adeb-95e9cf2c934c"
      },
      "outputs": [
        {
          "output_type": "stream",
          "name": "stdout",
          "text": [
            "Area: 50.24\n",
            "Perimeter: 25.12\n"
          ]
        }
      ],
      "source": [
        "class Circle:\n",
        "    def __init__(self, radius):\n",
        "        self.radius = radius\n",
        "\n",
        "    def area(self):\n",
        "        return 3.14 * self.radius * self.radius\n",
        "\n",
        "    def perimeter(self):\n",
        "        return 2 * 3.14 * self.radius\n",
        "\n",
        "c = Circle(4)\n",
        "print(\"Area:\", c.area())\n",
        "print(\"Perimeter:\", c.perimeter())\n"
      ]
    },
    {
      "cell_type": "markdown",
      "source": [
        "person class"
      ],
      "metadata": {
        "id": "m11pllrtTM6U"
      }
    },
    {
      "cell_type": "code",
      "source": [
        "class Person:\n",
        "    def __init__(self, name, country, birth_year):\n",
        "        self.name = name\n",
        "        self.country = country\n",
        "        self.birth_year = birth_year\n",
        "\n",
        "    def get_age(self, current_year):\n",
        "        return current_year - self.birth_year\n",
        "\n",
        "p = Person(\"Ali\", \"Pakistan\", 2000)\n",
        "print(\"Age:\", p.get_age(2025))\n"
      ],
      "metadata": {
        "colab": {
          "base_uri": "https://localhost:8080/"
        },
        "id": "9dTyoOIuTMdr",
        "outputId": "1d76a101-a900-4ee3-b648-0a1c2e17f109"
      },
      "execution_count": 15,
      "outputs": [
        {
          "output_type": "stream",
          "name": "stdout",
          "text": [
            "Age: 25\n"
          ]
        }
      ]
    },
    {
      "cell_type": "markdown",
      "source": [
        "calculator class"
      ],
      "metadata": {
        "id": "bPbf9p9aT5jU"
      }
    },
    {
      "cell_type": "code",
      "source": [
        "class Calculator:\n",
        "    def add(self, a, b):\n",
        "        return a + b\n",
        "\n",
        "    def subtract(self, a, b):\n",
        "        return a - b\n",
        "\n",
        "    def multiply(self, a, b):\n",
        "        return a * b\n",
        "\n",
        "    def divide(self, a, b):\n",
        "        if b == 0:\n",
        "            return \"Cannot divide by zero\"\n",
        "        return a / b\n",
        "\n",
        "calc = Calculator()\n",
        "print(\"Add:\", calc.add(10, 5))\n",
        "print(\"Subtract:\", calc.subtract(10, 5))\n",
        "print(\"Multiply:\", calc.multiply(10, 5))\n",
        "print(\"Divide:\", calc.divide(10, 2))\n"
      ],
      "metadata": {
        "colab": {
          "base_uri": "https://localhost:8080/"
        },
        "id": "E3QLsshFT5EV",
        "outputId": "87b790ec-0305-4c60-802e-5b5ab2b830d2"
      },
      "execution_count": 14,
      "outputs": [
        {
          "output_type": "stream",
          "name": "stdout",
          "text": [
            "Add: 15\n",
            "Subtract: 5\n",
            "Multiply: 50\n",
            "Divide: 5.0\n"
          ]
        }
      ]
    }
  ]
}