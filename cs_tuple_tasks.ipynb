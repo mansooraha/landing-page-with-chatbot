{
  "nbformat": 4,
  "nbformat_minor": 0,
  "metadata": {
    "colab": {
      "provenance": [],
      "authorship_tag": "ABX9TyMdMXxGlzNL1iZgh1ssNyPp",
      "include_colab_link": true
    },
    "kernelspec": {
      "name": "python3",
      "display_name": "Python 3"
    },
    "language_info": {
      "name": "python"
    }
  },
  "cells": [
    {
      "cell_type": "markdown",
      "metadata": {
        "id": "view-in-github",
        "colab_type": "text"
      },
      "source": [
        "<a href=\"https://colab.research.google.com/github/mansooraha/landing-page-with-chatbot/blob/main/cs_tuple_tasks.ipynb\" target=\"_parent\"><img src=\"https://colab.research.google.com/assets/colab-badge.svg\" alt=\"Open In Colab\"/></a>"
      ]
    },
    {
      "cell_type": "code",
      "execution_count": 1,
      "metadata": {
        "colab": {
          "base_uri": "https://localhost:8080/"
        },
        "id": "hBeG6SyHe7DK",
        "outputId": "f6041480-6bf9-43be-f099-beb28c4389c4"
      },
      "outputs": [
        {
          "output_type": "stream",
          "name": "stdout",
          "text": [
            "(50, 40, 30, 20, 10)\n"
          ]
        }
      ],
      "source": [
        "tuple1 = (10, 20, 30, 40, 50)\n",
        "print(tuple1[::-1])\n"
      ]
    },
    {
      "cell_type": "code",
      "source": [
        "tuple1 = (\"Orange\", [10, 20, 30], (5, 15, 25))\n",
        "print(tuple1[1][1])  # Accessing 2nd element of the list inside the tuple\n"
      ],
      "metadata": {
        "colab": {
          "base_uri": "https://localhost:8080/"
        },
        "id": "RcxTLzI5fPpC",
        "outputId": "0a9d8c06-0f58-478a-f7bb-a05011ae6779"
      },
      "execution_count": 5,
      "outputs": [
        {
          "output_type": "stream",
          "name": "stdout",
          "text": [
            "20\n"
          ]
        }
      ]
    },
    {
      "cell_type": "code",
      "source": [
        "T1 = (1, 9, 1, 6, 3, 4)\n",
        "print(sum(T1))\n"
      ],
      "metadata": {
        "colab": {
          "base_uri": "https://localhost:8080/"
        },
        "id": "n4DshnZjfsKn",
        "outputId": "7cd72d7d-7f33-487e-e6ad-44420a2fb4e8"
      },
      "execution_count": 6,
      "outputs": [
        {
          "output_type": "stream",
          "name": "stdout",
          "text": [
            "24\n"
          ]
        }
      ]
    },
    {
      "cell_type": "code",
      "source": [
        "import random\n",
        "t = tuple(random.randint(1, 100) for _ in range(3))\n",
        "print(t)\n"
      ],
      "metadata": {
        "colab": {
          "base_uri": "https://localhost:8080/"
        },
        "id": "Z64qpKQ1fvJN",
        "outputId": "7a2662bf-55eb-4374-eb5f-2d6e00df8f96"
      },
      "execution_count": 13,
      "outputs": [
        {
          "output_type": "stream",
          "name": "stdout",
          "text": [
            "(80, 65, 2)\n"
          ]
        }
      ]
    },
    {
      "cell_type": "code",
      "source": [
        "t = (23,)\n",
        "print(t)\n"
      ],
      "metadata": {
        "colab": {
          "base_uri": "https://localhost:8080/"
        },
        "id": "bXqWZ-q4gDTe",
        "outputId": "81f09ae8-fc87-444b-db1b-67c899303f93"
      },
      "execution_count": 18,
      "outputs": [
        {
          "output_type": "stream",
          "name": "stdout",
          "text": [
            "(23,)\n",
            "<class 'tuple'>\n"
          ]
        }
      ]
    }
  ]
}