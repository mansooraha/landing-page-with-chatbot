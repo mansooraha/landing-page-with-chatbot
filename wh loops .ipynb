{
  "nbformat": 4,
  "nbformat_minor": 0,
  "metadata": {
    "colab": {
      "provenance": [],
      "authorship_tag": "ABX9TyPonLHAzXROUYrsxZYmU5tU",
      "include_colab_link": true
    },
    "kernelspec": {
      "name": "python3",
      "display_name": "Python 3"
    },
    "language_info": {
      "name": "python"
    }
  },
  "cells": [
    {
      "cell_type": "markdown",
      "metadata": {
        "id": "view-in-github",
        "colab_type": "text"
      },
      "source": [
        "<a href=\"https://colab.research.google.com/github/mansooraha/landing-page-with-chatbot/blob/main/cs_asig1.ipynb\" target=\"_parent\"><img src=\"https://colab.research.google.com/assets/colab-badge.svg\" alt=\"Open In Colab\"/></a>"
      ]
    },
    {
      "cell_type": "code",
      "execution_count": 10,
      "metadata": {
        "colab": {
          "base_uri": "https://localhost:8080/"
        },
        "id": "Z-6R7A6Lg939",
        "outputId": "4a5548e8-5c3d-498c-b6d6-329b96ef764c"
      },
      "outputs": [
        {
          "output_type": "stream",
          "name": "stdout",
          "text": [
            "2\n",
            "4\n",
            "6\n",
            "8\n",
            "10\n",
            "12\n",
            "14\n",
            "16\n",
            "18\n",
            "20\n"
          ]
        }
      ],
      "source": [
        "\n",
        "a = 2\n",
        "while a <= 20:\n",
        "    print(a)\n",
        "    a += 2"
      ]
    },
    {
      "cell_type": "code",
      "source": [
        "num = int(input(\"Enter a positive integer: \"))\n",
        "reversed_num = 0\n",
        "\n",
        "while num > 0:\n",
        "    digit = num % 10\n",
        "    reversed_num = reversed_num * 10 + digit\n",
        "    num = num // 10\n",
        "\n",
        "print(\"Reversed number:\", reversed_num)\n"
      ],
      "metadata": {
        "colab": {
          "base_uri": "https://localhost:8080/"
        },
        "id": "AwmyADdfjrry",
        "outputId": "c384893f-452a-4e9f-d359-441f54248dee"
      },
      "execution_count": 13,
      "outputs": [
        {
          "output_type": "stream",
          "name": "stdout",
          "text": [
            "Enter a positive integer: 44443353443566775\n",
            "Reversed number: 57766534435334444\n"
          ]
        }
      ]
    },
    {
      "cell_type": "code",
      "source": [
        "secret_number = 42\n",
        "guess = 0\n",
        "while guess != secret_number:\n",
        "    guess = int(input(\"Your guess: \"))\n",
        "\n",
        "    if guess < secret_number:\n",
        "        print(\"Too low Try again\")\n",
        "    elif guess > secret_number:\n",
        "        print(\"Too high Try again\")\n",
        "\n",
        "print(\"it is correct nice\")"
      ],
      "metadata": {
        "colab": {
          "base_uri": "https://localhost:8080/"
        },
        "id": "ooET-mIAlPnk",
        "outputId": "3e76feee-7366-4bd9-f500-0535354751a8"
      },
      "execution_count": 16,
      "outputs": [
        {
          "output_type": "stream",
          "name": "stdout",
          "text": [
            "Your guess: 33\n",
            "Too low Try again\n",
            "Your guess: 33\n",
            "Too low Try again\n",
            "Your guess: 33\n",
            "Too low Try again\n",
            "Your guess: 42\n",
            "it is correct\n"
          ]
        }
      ]
    }
  ]
}
