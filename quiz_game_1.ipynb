{
  "nbformat": 4,
  "nbformat_minor": 0,
  "metadata": {
    "colab": {
      "provenance": [],
      "authorship_tag": "ABX9TyMbofKeP1nHBR9fYZMY3SKG",
      "include_colab_link": true
    },
    "kernelspec": {
      "name": "python3",
      "display_name": "Python 3"
    },
    "language_info": {
      "name": "python"
    }
  },
  "cells": [
    {
      "cell_type": "markdown",
      "metadata": {
        "id": "view-in-github",
        "colab_type": "text"
      },
      "source": [
        "<a href=\"https://colab.research.google.com/github/mansooraha/landing-page-with-chatbot/blob/main/quiz_game_1.ipynb\" target=\"_parent\"><img src=\"https://colab.research.google.com/assets/colab-badge.svg\" alt=\"Open In Colab\"/></a>"
      ]
    },
    {
      "cell_type": "code",
      "source": [],
      "metadata": {
        "id": "u1GSl99h275-"
      },
      "execution_count": null,
      "outputs": []
    },
    {
      "cell_type": "code",
      "source": [
        "def quiz():\n",
        "    try:\n",
        "        f = open(\"/content/questions.txt\")\n",
        "        lines = f.readlines()\n",
        "        f.close()\n",
        "    except:\n",
        "        print(\"File not found\")\n",
        "        return\n",
        "\n",
        "    score = 0\n",
        "    for line in lines:\n",
        "        q = line.strip().split(\",\")\n",
        "        print(\"\\n\" + q[0])\n",
        "        print(q[1], q[2], q[3], q[4])\n",
        "        ans = input(\"Answer (A/B/C/D): \").upper()\n",
        "        if ans == q[5]:\n",
        "            score += 1\n",
        "\n",
        "    name = input(\"Your name: \")\n",
        "    with open(\"scores.txt\", \"a\") as f:\n",
        "        f.write(name + \": \" + str(score) + \"\\n\")\n",
        "\n",
        "    print(\"Score:\", score)\n",
        "\n",
        "# ✅ Loop for Replay\n",
        "while True:\n",
        "    quiz()\n",
        "    again = input(\"Do you want to play again? (yes/no): \").lower()\n",
        "    if again != \"yes\":\n",
        "        print(\"Thanks for playing. Goodbye!\")\n",
        "        break\n"
      ],
      "metadata": {
        "colab": {
          "base_uri": "https://localhost:8080/"
        },
        "id": "6o7J-hf11Vo8",
        "outputId": "1e7ad970-0668-41e7-bedd-3df5b5e063dd"
      },
      "execution_count": 5,
      "outputs": [
        {
          "output_type": "stream",
          "name": "stdout",
          "text": [
            "\n",
            "What is the capital of France?\n",
            "A. Berlin B. Madrid C. Paris D. Rome\n",
            "Answer (A/B/C/D): a\n",
            "\n",
            "What is 2+2?\n",
            "A. 3 B. 4 C. 5 D. 6\n",
            "Answer (A/B/C/D): f\n",
            "Your name: ggg\n",
            "Score: 0\n",
            "Do you want to play again? (yes/no): hno\n",
            "Thanks for playing. Goodbye!\n"
          ]
        }
      ]
    },
    {
      "cell_type": "code",
      "source": [],
      "metadata": {
        "id": "cL3jHIyL3OAG"
      },
      "execution_count": null,
      "outputs": []
    }
  ]
}