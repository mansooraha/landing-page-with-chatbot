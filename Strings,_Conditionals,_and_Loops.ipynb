{
  "nbformat": 4,
  "nbformat_minor": 0,
  "metadata": {
    "colab": {
      "provenance": [],
      "authorship_tag": "ABX9TyOsnSj5fGIvjBW/62e4fJm9",
      "include_colab_link": true
    },
    "kernelspec": {
      "name": "python3",
      "display_name": "Python 3"
    },
    "language_info": {
      "name": "python"
    }
  },
  "cells": [
    {
      "cell_type": "markdown",
      "metadata": {
        "id": "view-in-github",
        "colab_type": "text"
      },
      "source": [
        "<a href=\"https://colab.research.google.com/github/mansooraha/landing-page-with-chatbot/blob/main/Strings%2C_Conditionals%2C_and_Loops.ipynb\" target=\"_parent\"><img src=\"https://colab.research.google.com/assets/colab-badge.svg\" alt=\"Open In Colab\"/></a>"
      ]
    },
    {
      "cell_type": "markdown",
      "source": [
        " Count Vowels in a String"
      ],
      "metadata": {
        "id": "ZOY9KEezo-V-"
      }
    },
    {
      "cell_type": "code",
      "execution_count": 22,
      "metadata": {
        "colab": {
          "base_uri": "https://localhost:8080/"
        },
        "id": "hBeG6SyHe7DK",
        "outputId": "c1806c41-d2ee-44ca-a618-a38de49c1375"
      },
      "outputs": [
        {
          "output_type": "stream",
          "name": "stdout",
          "text": [
            "Enter a string: scsc\n",
            "Number of vowels: 0\n"
          ]
        }
      ],
      "source": [
        "text = input(\"Enter a string \")\n",
        "vowels = \"aeiouAEIOU\"\n",
        "count = 0\n",
        "\n",
        "for char in text:\n",
        "    if char in vowels:\n",
        "        count += 1\n",
        "\n",
        "print(\"Number of vowels\", count)\n"
      ]
    },
    {
      "cell_type": "markdown",
      "source": [
        " Reverse Words in a Sentence"
      ],
      "metadata": {
        "id": "Wbw9Cc7spL_4"
      }
    },
    {
      "cell_type": "code",
      "source": [
        "sentence = input(\"Enter a sentence \")\n",
        "words = sentence.split()\n",
        "\n",
        "for word in words:\n",
        "    print(word[::-1], end=' ')\n"
      ],
      "metadata": {
        "colab": {
          "base_uri": "https://localhost:8080/"
        },
        "id": "RcxTLzI5fPpC",
        "outputId": "268d2791-25a4-4fd2-d84a-1743d2fd7631"
      },
      "execution_count": 25,
      "outputs": [
        {
          "output_type": "stream",
          "name": "stdout",
          "text": [
            "Enter a sentence: my name is mansoor\n",
            "ym eman si roosnam "
          ]
        }
      ]
    },
    {
      "cell_type": "markdown",
      "source": [
        " Check for Palindrome"
      ],
      "metadata": {
        "id": "b8IH2LtlpP9z"
      }
    },
    {
      "cell_type": "code",
      "source": [
        "text = input(\"Enter a string \")\n",
        "text = text.replace(\" \", \"\").lower()\n",
        "\n",
        "if text == text[::-1]:\n",
        "    print(\"Palindrome\")\n",
        "else:\n",
        "    print(\"Not a palindrome\")\n"
      ],
      "metadata": {
        "colab": {
          "base_uri": "https://localhost:8080/"
        },
        "id": "n4DshnZjfsKn",
        "outputId": "2db8cdf4-9c27-4653-c728-177a0f567ec6"
      },
      "execution_count": 31,
      "outputs": [
        {
          "output_type": "stream",
          "name": "stdout",
          "text": [
            "Enter a string: 1234 4321\n",
            "Palindrome\n"
          ]
        }
      ]
    },
    {
      "cell_type": "markdown",
      "source": [
        " Character Frequency (print only duplicates)"
      ],
      "metadata": {
        "id": "tf3l2B6TpVWj"
      }
    },
    {
      "cell_type": "code",
      "source": [
        "text = input(\"Enter a string \")\n",
        "chars = set()\n",
        "for char in text:\n",
        "    if text.count(char) > 1 and char not in chars:\n",
        "        print(char, \"-\", text.count(char))\n",
        "        chars.add(char)"
      ],
      "metadata": {
        "colab": {
          "base_uri": "https://localhost:8080/"
        },
        "id": "Z64qpKQ1fvJN",
        "outputId": "5c1dec53-41f1-4132-a0b3-82ff206fc177"
      },
      "execution_count": 42,
      "outputs": [
        {
          "output_type": "stream",
          "name": "stdout",
          "text": [
            "Enter a string: dcdcdsddsdccdss dscvds\n",
            "d - 9\n",
            "c - 5\n",
            "s - 6\n"
          ]
        }
      ]
    },
    {
      "cell_type": "markdown",
      "source": [
        "Remove Duplicate Characters"
      ],
      "metadata": {
        "id": "5dSptLOFphjA"
      }
    },
    {
      "cell_type": "code",
      "source": [
        "text = input(\"Enter a string \")\n",
        "result = \"\"\n",
        "\n",
        "for char in text:\n",
        "    if char not in result:\n",
        "        result += char\n",
        "\n",
        "print(\"Without duplicates\", result)"
      ],
      "metadata": {
        "colab": {
          "base_uri": "https://localhost:8080/"
        },
        "id": "bXqWZ-q4gDTe",
        "outputId": "448acaee-2b3b-4589-936b-292f23b98a5c"
      },
      "execution_count": 43,
      "outputs": [
        {
          "output_type": "stream",
          "name": "stdout",
          "text": [
            "Enter a string this ai an apple\n",
            "Without duplicates this anple\n"
          ]
        }
      ]
    },
    {
      "cell_type": "markdown",
      "source": [
        "Password Strength Checker"
      ],
      "metadata": {
        "id": "PxoAqhF8pnPU"
      }
    },
    {
      "cell_type": "code",
      "source": [
        "password = input(\"Enter your password \")\n",
        "\n",
        "if len(password) < 8:\n",
        "    print(\"Please enter more than 8 characters\")\n",
        "elif (any(c.isupper() for c in password) and\n",
        "      any(c.isdigit() for c in password) and\n",
        "      any(c in \"@#$%&*!\" for c in password)):\n",
        "    print(\"Strong password\")\n",
        "else:\n",
        "    print(\"Try again with a strong password\")\n"
      ],
      "metadata": {
        "colab": {
          "base_uri": "https://localhost:8080/"
        },
        "id": "68nx2NUCnTXr",
        "outputId": "79425f6d-3533-4365-95f3-4e23c82df3d5"
      },
      "execution_count": 46,
      "outputs": [
        {
          "output_type": "stream",
          "name": "stdout",
          "text": [
            "Enter your password: DSSDCDDS22@3\n",
            "Strong password\n"
          ]
        }
      ]
    },
    {
      "cell_type": "markdown",
      "source": [
        "Find Longest Word"
      ],
      "metadata": {
        "id": "Zvau45R1pqzJ"
      }
    },
    {
      "cell_type": "code",
      "source": [
        "sentence = input(\"Enter a sentence \")\n",
        "words = sentence.split()\n",
        "longest = words[0]\n",
        "\n",
        "for word in words:\n",
        "    if len(word) > len(longest):\n",
        "        longest = word\n",
        "\n",
        "print(\"Longest word\", longest)\n"
      ],
      "metadata": {
        "colab": {
          "base_uri": "https://localhost:8080/"
        },
        "id": "6Clu8O-hngzi",
        "outputId": "4b0bac62-7b20-4dc5-b38e-1cbdcb4734f0"
      },
      "execution_count": 47,
      "outputs": [
        {
          "output_type": "stream",
          "name": "stdout",
          "text": [
            "Enter a sentence:  MY name   is mansoor  ahmed from karaxchi\\\n",
            "Longest word: karaxchi\\\n"
          ]
        }
      ]
    },
    {
      "cell_type": "markdown",
      "source": [
        " Replace Vowels with *"
      ],
      "metadata": {
        "id": "ijQhqG8RptzG"
      }
    },
    {
      "cell_type": "code",
      "source": [
        "text = input(\"Enter a string \")\n",
        "vowels = \"aeiouAEIOU\"\n",
        "result = \"\"\n",
        "\n",
        "for char in text:\n",
        "    if char in vowels:\n",
        "        result += \"*\"\n",
        "    else:\n",
        "        result += char\n",
        "\n",
        "print(\"After replacing vowels\", result)\n"
      ],
      "metadata": {
        "colab": {
          "base_uri": "https://localhost:8080/"
        },
        "id": "zTVF117Sn9ae",
        "outputId": "b9f4ec02-e0ad-4c2f-d36c-8589838b4396"
      },
      "execution_count": 48,
      "outputs": [
        {
          "output_type": "stream",
          "name": "stdout",
          "text": [
            "Enter a string: my nsame is mansoor ahmed \n",
            "After replacing vowels: my ns*m* *s m*ns**r *hm*d \n"
          ]
        }
      ]
    },
    {
      "cell_type": "markdown",
      "source": [
        " Count Words Starting with Vowel"
      ],
      "metadata": {
        "id": "9sGiCp5ypzGH"
      }
    },
    {
      "cell_type": "code",
      "source": [
        "sentence = input(\"Enter a sentence \")\n",
        "words = sentence.split()\n",
        "vowels = \"aeiouAEIOU\"\n",
        "count = 0\n",
        "\n",
        "for word in words:\n",
        "    if word[0] in vowels:\n",
        "        count += 1\n",
        "\n",
        "print(\"Words starting with vowel\", count)\n"
      ],
      "metadata": {
        "colab": {
          "base_uri": "https://localhost:8080/"
        },
        "id": "G1h1wWi-oOKy",
        "outputId": "50368346-1ff5-45bb-f7ca-c238c2c8e641"
      },
      "execution_count": 49,
      "outputs": [
        {
          "output_type": "stream",
          "name": "stdout",
          "text": [
            "Enter a sentence: muu nsmr is msnsoor \n",
            "Words starting with vowel: 1\n"
          ]
        }
      ]
    },
    {
      "cell_type": "markdown",
      "source": [
        " First Non-Repeating Character"
      ],
      "metadata": {
        "id": "Ol7R4CoXp0Jj"
      }
    },
    {
      "cell_type": "code",
      "source": [
        "text = input(\"Enter a string \")\n",
        "\n",
        "for char in text:\n",
        "    if text.count(char) == 1:\n",
        "        print(\"First non-repeating character\", char)\n",
        "        break\n"
      ],
      "metadata": {
        "colab": {
          "base_uri": "https://localhost:8080/"
        },
        "id": "Fjuq4Wniofko",
        "outputId": "2a9c774c-9c9d-4c27-b4dd-dff1f9ce28c6"
      },
      "execution_count": 50,
      "outputs": [
        {
          "output_type": "stream",
          "name": "stdout",
          "text": [
            "Enter a string: mt name is haji mansoor maeri\n",
            "First non-repeating character: t\n"
          ]
        }
      ]
    }
  ]
}