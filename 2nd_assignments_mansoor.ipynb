{
  "cells": [
    {
      "cell_type": "markdown",
      "metadata": {
        "id": "view-in-github",
        "colab_type": "text"
      },
      "source": [
        "<a href=\"https://colab.research.google.com/github/mansooraha/landing-page-with-chatbot/blob/main/2nd_assignments_mansoor.ipynb\" target=\"_parent\"><img src=\"https://colab.research.google.com/assets/colab-badge.svg\" alt=\"Open In Colab\"/></a>"
      ]
    },
    {
      "cell_type": "markdown",
      "source": [
        "1st task"
      ],
      "metadata": {
        "id": "yRO3bji7tIvE"
      }
    },
    {
      "cell_type": "code",
      "source": [
        "a = len(input(\"inter the string data \\n\"))\n",
        "if a > 5:\n",
        "  print (\"sring length is long \")\n",
        "else:\n",
        "  print (\"sring length is short \")"
      ],
      "metadata": {
        "colab": {
          "base_uri": "https://localhost:8080/"
        },
        "id": "kJycMqRqpGrF",
        "outputId": "5bf3b91e-7105-4fe7-a4ab-d8ba110b8600"
      },
      "execution_count": null,
      "outputs": [
        {
          "output_type": "stream",
          "name": "stdout",
          "text": [
            "inter the string data \n",
            "123456\n",
            "sring length is long \n"
          ]
        }
      ]
    },
    {
      "cell_type": "markdown",
      "source": [
        "2nd task"
      ],
      "metadata": {
        "id": "ZuHSlUxhtY0r"
      }
    },
    {
      "cell_type": "code",
      "source": [
        "b = input(\"Enter something \")\n",
        "if \"python\" in b.lower():\n",
        "    print(\"Python lover\")\n",
        "else:\n",
        "    print(\"Try Python\")\n"
      ],
      "metadata": {
        "colab": {
          "base_uri": "https://localhost:8080/"
        },
        "id": "CQllzgVAtPBo",
        "outputId": "cf703990-116c-4bbf-ffe8-49934ebf6447"
      },
      "execution_count": null,
      "outputs": [
        {
          "output_type": "stream",
          "name": "stdout",
          "text": [
            "Enter something: pythoN is a language\n",
            "Python lover!\n"
          ]
        }
      ]
    },
    {
      "cell_type": "markdown",
      "source": [
        "3rd task"
      ],
      "metadata": {
        "id": "3N4GO8aOx2Tb"
      }
    },
    {
      "cell_type": "code",
      "source": [
        "c = input(\"Enter a word \")\n",
        "if c[0].lower() in 'aeiou':\n",
        "    print(\" vowel\")\n",
        "else:\n",
        "    print(\" consonant\")\n"
      ],
      "metadata": {
        "colab": {
          "base_uri": "https://localhost:8080/"
        },
        "id": "f7WC9oNBx0ZD",
        "outputId": "18accb15-5bea-43b5-9782-c8fe2f0ac1c8"
      },
      "execution_count": null,
      "outputs": [
        {
          "output_type": "stream",
          "name": "stdout",
          "text": [
            "Enter a word daz\n",
            " consonant\n"
          ]
        }
      ]
    },
    {
      "cell_type": "markdown",
      "source": [
        "4th task"
      ],
      "metadata": {
        "id": "tLMvVA2d1hKg"
      }
    },
    {
      "cell_type": "code",
      "source": [
        "username = input(\"Enter a username: \")\n",
        "if username[-1].isdigit():\n",
        "    print(\"Username cannot end with a number\")\n",
        "else:\n",
        "    print(\"Username is valid\")\n"
      ],
      "metadata": {
        "colab": {
          "base_uri": "https://localhost:8080/"
        },
        "id": "lDzn-vTv0B9k",
        "outputId": "db094494-684e-4025-b9da-7d73ccef2845"
      },
      "execution_count": 1,
      "outputs": [
        {
          "output_type": "stream",
          "name": "stdout",
          "text": [
            "Enter a username: dsds\n",
            "Username is valid\n"
          ]
        }
      ]
    },
    {
      "cell_type": "markdown",
      "source": [
        "5th task"
      ],
      "metadata": {
        "id": "54r9kHPh4xgf"
      }
    },
    {
      "cell_type": "code",
      "source": [
        "password = input(\"Enter a password: \")\n",
        "if (('@' in password or '#' in password) and len(password) >= 8):\n",
        "    print(\"Strong password\")\n",
        "else:\n",
        "    print(\"Weak password\")\n"
      ],
      "metadata": {
        "id": "MIWtQtdJ4xEY",
        "colab": {
          "base_uri": "https://localhost:8080/"
        },
        "outputId": "33d871b5-c696-40d0-f268-353389983bc4"
      },
      "execution_count": 11,
      "outputs": [
        {
          "output_type": "stream",
          "name": "stdout",
          "text": [
            "Enter a password: asddfgg@#\n",
            "Strong password\n"
          ]
        }
      ]
    },
    {
      "cell_type": "markdown",
      "source": [
        "6th task"
      ],
      "metadata": {
        "id": "wcrJ9oRXNxQX"
      }
    },
    {
      "cell_type": "code",
      "source": [],
      "metadata": {
        "id": "g0eys_UwO3mJ"
      },
      "execution_count": null,
      "outputs": []
    },
    {
      "cell_type": "code",
      "source": [
        "user1=input(\"Enter username: \")\n",
        "user2=input(\"Enter usee: \")\n",
        "if user1 == user2:\n",
        "    print(\"Strings are equal\")\n",
        "else:\n",
        "    print(\"Strings are not equal\")"
      ],
      "metadata": {
        "colab": {
          "base_uri": "https://localhost:8080/"
        },
        "id": "bQPxb1vWNwoL",
        "outputId": "5cc2c4a9-5792-4037-bc3c-c8885b9befb9"
      },
      "execution_count": 16,
      "outputs": [
        {
          "output_type": "stream",
          "name": "stdout",
          "text": [
            "Enter username: asas\n",
            "Enter usee: wesq3\n",
            "Strings are not equal\n"
          ]
        }
      ]
    },
    {
      "cell_type": "markdown",
      "source": [
        "7th task"
      ],
      "metadata": {
        "id": "-EKpwEhYOdFC"
      }
    },
    {
      "cell_type": "code",
      "source": [
        "email = input(\"Enter your email: \")\n",
        "if \"@\" in email and email.endswith(\".com\"):\n",
        "    print(\"Valid email\")\n",
        "else:\n",
        "    print(\"Invalid email\")\n"
      ],
      "metadata": {
        "colab": {
          "base_uri": "https://localhost:8080/"
        },
        "id": "Gl2e1VRBObiz",
        "outputId": "ffb4034e-d5d5-4674-e0c5-35a81ec4fe07"
      },
      "execution_count": 24,
      "outputs": [
        {
          "output_type": "stream",
          "name": "stdout",
          "text": [
            "Enter your email: asd@.com\n",
            "Valid email\n"
          ]
        }
      ]
    },
    {
      "cell_type": "markdown",
      "source": [
        "8th task"
      ],
      "metadata": {
        "id": "ucGtq3xdQJdr"
      }
    },
    {
      "cell_type": "code",
      "source": [
        "str_data=input(\"inter a string\")\n",
        "if str_data == str_data[::-1]:\n",
        "    print(\"The string is a palindrome\")\n",
        "else:\n",
        "    print(\"The string is not a palindrome\")"
      ],
      "metadata": {
        "colab": {
          "base_uri": "https://localhost:8080/"
        },
        "id": "aSWRaiRNQJIW",
        "outputId": "24f95d2f-de37-4754-9cd9-d69545785ff5"
      },
      "execution_count": 39,
      "outputs": [
        {
          "output_type": "stream",
          "name": "stdout",
          "text": [
            "inter a stringassa\n",
            "The string is a palindrome\n"
          ]
        }
      ]
    },
    {
      "cell_type": "markdown",
      "source": [
        "9th task"
      ],
      "metadata": {
        "id": "NXOjPQ05SULH"
      }
    },
    {
      "cell_type": "code",
      "source": [
        "name = input(\"Enter your full name \")\n",
        "parts = name.split()\n",
        "if len(parts) == 2 and all(part.isalpha() for part in parts):\n",
        "    print(\"Valid name\")\n",
        "else:\n",
        "    print(\"Invalid name\")\n"
      ],
      "metadata": {
        "colab": {
          "base_uri": "https://localhost:8080/"
        },
        "id": "q6dMeBpHSTy1",
        "outputId": "10f13033-1bbf-45e3-9464-a6f42a26d268"
      },
      "execution_count": 50,
      "outputs": [
        {
          "output_type": "stream",
          "name": "stdout",
          "text": [
            "Enter your full name assdddsads\n",
            "Invalid name\n"
          ]
        }
      ]
    },
    {
      "cell_type": "markdown",
      "source": [
        "10th task"
      ],
      "metadata": {
        "id": "lpDb4bf3VAAV"
      }
    },
    {
      "cell_type": "code",
      "source": [
        "text = input(\"Enter a string: \")\n",
        "if text[0] == text[-1]:\n",
        "    print(\"First and last match\")\n",
        "else:\n",
        "    print(\"They don't match\")\n"
      ],
      "metadata": {
        "colab": {
          "base_uri": "https://localhost:8080/"
        },
        "id": "pe1kUW2QU-9X",
        "outputId": "b079190a-a744-4348-fe08-b54b2dd2ba6d"
      },
      "execution_count": 53,
      "outputs": [
        {
          "output_type": "stream",
          "name": "stdout",
          "text": [
            "Enter a string: assa\n",
            "First and last match\n"
          ]
        }
      ]
    }
  ],
  "metadata": {
    "colab": {
      "toc_visible": true,
      "provenance": [],
      "include_colab_link": true
    },
    "kernelspec": {
      "display_name": "Python 3",
      "name": "python3"
    }
  },
  "nbformat": 4,
  "nbformat_minor": 0
}