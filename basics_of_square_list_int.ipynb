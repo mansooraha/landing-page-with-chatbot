{
  "nbformat": 4,
  "nbformat_minor": 0,
  "metadata": {
    "colab": {
      "provenance": [],
      "authorship_tag": "ABX9TyPETd5ARcLsPueQ/Zc59giI",
      "include_colab_link": true
    },
    "kernelspec": {
      "name": "python3",
      "display_name": "Python 3"
    },
    "language_info": {
      "name": "python"
    }
  },
  "cells": [
    {
      "cell_type": "markdown",
      "metadata": {
        "id": "view-in-github",
        "colab_type": "text"
      },
      "source": [
        "<a href=\"https://colab.research.google.com/github/mansooraha/landing-page-with-chatbot/blob/main/basics_of_square_list_int.ipynb\" target=\"_parent\"><img src=\"https://colab.research.google.com/assets/colab-badge.svg\" alt=\"Open In Colab\"/></a>"
      ]
    },
    {
      "cell_type": "markdown",
      "source": [
        "Given a list of integers, extract all numbers greater than 10."
      ],
      "metadata": {
        "id": "jALdzXSiBKs9"
      }
    },
    {
      "cell_type": "code",
      "source": [
        "numbers = [1, 5, 13, 4, 16, 7];\n",
        "greater_than_10 = [num for num in numbers if num > 10];\n",
        "print(greater_than_10)"
      ],
      "metadata": {
        "colab": {
          "base_uri": "https://localhost:8080/"
        },
        "id": "M0iwJrQoA3vL",
        "outputId": "13d30298-1864-4cba-cd03-d25ccbdd4cc4"
      },
      "execution_count": 2,
      "outputs": [
        {
          "output_type": "stream",
          "name": "stdout",
          "text": [
            "[13, 16]\n"
          ]
        }
      ]
    },
    {
      "cell_type": "markdown",
      "source": [
        "squares"
      ],
      "metadata": {
        "id": "yvR_xVGTBviE"
      }
    },
    {
      "cell_type": "code",
      "source": [
        "squares = [x**2 for x in range(5, 15)];\n",
        "print(squares)"
      ],
      "metadata": {
        "colab": {
          "base_uri": "https://localhost:8080/"
        },
        "id": "Egmabx50BYlI",
        "outputId": "f51f720a-3679-4e38-fd64-aeec7c728a97"
      },
      "execution_count": 5,
      "outputs": [
        {
          "output_type": "stream",
          "name": "stdout",
          "text": [
            "[25, 36, 49, 64, 81, 100, 121, 144, 169, 196]\n"
          ]
        }
      ]
    }
  ]
}