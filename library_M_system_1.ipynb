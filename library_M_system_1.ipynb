{
  "nbformat": 4,
  "nbformat_minor": 0,
  "metadata": {
    "colab": {
      "provenance": [],
      "authorship_tag": "ABX9TyOXPGftXJRxoFXcS/ttvmFz",
      "include_colab_link": true
    },
    "kernelspec": {
      "name": "python3",
      "display_name": "Python 3"
    },
    "language_info": {
      "name": "python"
    }
  },
  "cells": [
    {
      "cell_type": "markdown",
      "metadata": {
        "id": "view-in-github",
        "colab_type": "text"
      },
      "source": [
        "<a href=\"https://colab.research.google.com/github/mansooraha/landing-page-with-chatbot/blob/main/library_M_system_1.ipynb\" target=\"_parent\"><img src=\"https://colab.research.google.com/assets/colab-badge.svg\" alt=\"Open In Colab\"/></a>"
      ]
    },
    {
      "cell_type": "code",
      "source": [],
      "metadata": {
        "id": "u1GSl99h275-"
      },
      "execution_count": null,
      "outputs": []
    },
    {
      "cell_type": "markdown",
      "source": [],
      "metadata": {
        "id": "gHV5tSli4oTD"
      }
    },
    {
      "cell_type": "code",
      "source": [
        "def load():\n",
        "    try: return [line.strip().split(\",\") for line in open(\"books.txt\")]\n",
        "    except: return []\n",
        "\n",
        "def save(data):\n",
        "    open(\"/content/Python.txt\", \"w\").writelines([\",\".join(b)+\"\\n\" for b in data])\n",
        "\n",
        "books = load()\n",
        "\n",
        "while True:\n",
        "    print(\"\\n1.View 2.Add 3.Lend 4.Return 5.Delete 6.Search 7.Exit\")\n",
        "    c = input(\"Choose: \")\n",
        "\n",
        "    if c == \"1\":\n",
        "        [print(f\"{b[0]} - {b[1]} - {b[2]}\") for b in books]\n",
        "    elif c == \"2\":\n",
        "        books.append([input(\"Title: \"), input(\"Author: \"), input(\"Qty: \")])\n",
        "    elif c == \"3\":\n",
        "        t = input(\"Lend: \")\n",
        "        for b in books:\n",
        "            if b[0].lower() == t.lower():\n",
        "                if int(b[2]) > 0:\n",
        "                    b[2] = str(int(b[2])-1)\n",
        "                    print(\"Lent!\")\n",
        "                else:\n",
        "                    print(\"Not available\")\n",
        "                break\n",
        "        else: print(\"Not found\")\n",
        "    elif c == \"4\":\n",
        "        t = input(\"Return: \")\n",
        "        for b in books:\n",
        "            if b[0].lower() == t.lower():\n",
        "                b[2] = str(int(b[2])+1)\n",
        "                print(\"Returned!\")\n",
        "                break\n",
        "        else: print(\"Not found\")\n",
        "    elif c == \"5\":\n",
        "        t = input(\"Delete: \")\n",
        "        for b in books:\n",
        "            if b[0].lower() == t.lower():\n",
        "                books.remove(b)\n",
        "                print(\"Deleted!\")\n",
        "                break\n",
        "        else: print(\"Not found\")\n",
        "    elif c == \"6\":\n",
        "        k = input(\"Search by title/author: \").lower()\n",
        "        for b in books:\n",
        "            if k in b[0].lower() or k in b[1].lower():\n",
        "                print(f\"{b[0]} - {b[1]} - {b[2]}\")\n",
        "    elif c == \"7\":\n",
        "        save(books)\n",
        "        print(\"Saved. Bye!\")\n",
        "        break\n",
        "    else:\n",
        "        print(\"Invalid.\")\n"
      ],
      "metadata": {
        "colab": {
          "base_uri": "https://localhost:8080/"
        },
        "id": "6o7J-hf11Vo8",
        "outputId": "9a4e5f42-5ba1-4889-886e-b88ef23ac7fd"
      },
      "execution_count": 2,
      "outputs": [
        {
          "output_type": "stream",
          "name": "stdout",
          "text": [
            "\n",
            "1.View 2.Add 3.Lend 4.Return 5.Delete 6.Search 7.Exit\n",
            "Choose: 3\n",
            "Lend: the road\n",
            "Not found\n",
            "\n",
            "1.View 2.Add 3.Lend 4.Return 5.Delete 6.Search 7.Exit\n",
            "Choose: 7\n",
            "Saved. Bye!\n"
          ]
        }
      ]
    },
    {
      "cell_type": "code",
      "source": [],
      "metadata": {
        "id": "cL3jHIyL3OAG"
      },
      "execution_count": null,
      "outputs": []
    }
  ]
}