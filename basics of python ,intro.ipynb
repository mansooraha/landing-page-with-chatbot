{
  "cells": [
    {
      "cell_type": "markdown",
      "metadata": {
        "id": "view-in-github",
        "colab_type": "text"
      },
      "source": [
        "<a href=\"https://colab.research.google.com/github/mansooraha/landing-page-with-chatbot/blob/main/basics%20of%20python%20%2Cintro.ipynb\" target=\"_parent\"><img src=\"https://colab.research.google.com/assets/colab-badge.svg\" alt=\"Open In Colab\"/></a>"
      ]
    },
    {
      "cell_type": "markdown",
      "source": [
        "1st task"
      ],
      "metadata": {
        "id": "RTww8vP6cJWc"
      }
    },
    {
      "cell_type": "code",
      "source": [
        "print(\"mansoor Ahemd\")\n",
        "print(\"age is\",25)"
      ],
      "metadata": {
        "colab": {
          "base_uri": "https://localhost:8080/"
        },
        "id": "TSIBzNZ_Y5uk",
        "outputId": "8f01ed45-b47e-4836-db3e-229d5cf6c33f"
      },
      "execution_count": 10,
      "outputs": [
        {
          "output_type": "stream",
          "name": "stdout",
          "text": [
            "mansoor Ahemd\n",
            "age is 25\n"
          ]
        }
      ]
    },
    {
      "cell_type": "markdown",
      "source": [
        "2nd task"
      ],
      "metadata": {
        "id": "Ua_y-AwVcWre"
      }
    },
    {
      "cell_type": "code",
      "source": [
        "name1=\" Mansoor \"\n",
        "name2=\"Ahmed\"\n",
        "print(name1+name2)"
      ],
      "metadata": {
        "colab": {
          "base_uri": "https://localhost:8080/"
        },
        "id": "0gVd8JFtag6V",
        "outputId": "cb9ad7d7-f192-4d3a-81c3-f898fa736c8b"
      },
      "execution_count": 17,
      "outputs": [
        {
          "output_type": "stream",
          "name": "stdout",
          "text": [
            " Mansoor Ahmed\n"
          ]
        }
      ]
    },
    {
      "cell_type": "markdown",
      "source": [
        "3rd task"
      ],
      "metadata": {
        "id": "ny3WZhsZcfJq"
      }
    },
    {
      "cell_type": "code",
      "source": [
        "a=22\n",
        "b=13\n",
        "print(a+b)\n",
        "print(a-b)\n",
        "print(a*b)\n",
        "print(a/b)"
      ],
      "metadata": {
        "colab": {
          "base_uri": "https://localhost:8080/"
        },
        "id": "M1-B2p9kbwZO",
        "outputId": "1aa3dc67-5c53-4ed0-9129-afa47d8b6ec6"
      },
      "execution_count": 79,
      "outputs": [
        {
          "output_type": "stream",
          "name": "stdout",
          "text": [
            "35\n",
            "9\n",
            "286\n",
            "1.6923076923076923\n"
          ]
        }
      ]
    },
    {
      "cell_type": "markdown",
      "source": [
        "4th task"
      ],
      "metadata": {
        "id": "IF0iTX2TdgOS"
      }
    },
    {
      "cell_type": "code",
      "source": [
        "number=23\n",
        "str=number\n",
        "print(\"now it is converted to string\",str)"
      ],
      "metadata": {
        "colab": {
          "base_uri": "https://localhost:8080/"
        },
        "id": "3uYNDjCUdd5o",
        "outputId": "e2079bca-c564-4ae3-d068-7ffbab959fda"
      },
      "execution_count": 31,
      "outputs": [
        {
          "output_type": "stream",
          "name": "stdout",
          "text": [
            "now it is converted to string 23\n"
          ]
        }
      ]
    },
    {
      "cell_type": "markdown",
      "source": [
        "5th task"
      ],
      "metadata": {
        "id": "2wcbNAq5gKfv"
      }
    },
    {
      "cell_type": "code",
      "source": [
        "string_data=\"200\"\n",
        "int_data=int(string_data)\n",
        "print(int_data+50)\n"
      ],
      "metadata": {
        "colab": {
          "base_uri": "https://localhost:8080/"
        },
        "id": "KsZBbeAteeNg",
        "outputId": "77ac0445-2fb5-434f-fe33-f7de9a731f62"
      },
      "execution_count": 36,
      "outputs": [
        {
          "output_type": "stream",
          "name": "stdout",
          "text": [
            "250\n"
          ]
        }
      ]
    },
    {
      "cell_type": "markdown",
      "source": [
        "6th task"
      ],
      "metadata": {
        "id": "NwO7tUwuiCOJ"
      }
    },
    {
      "cell_type": "code",
      "source": [
        "a = float(input(\"Enter first number: \"))\n",
        "b = float(input(\"Enter second number: \"))\n",
        "\n",
        "print(a+b)\n",
        "print(a-b)\n",
        "print(a*b)\n",
        "print(a/b)"
      ],
      "metadata": {
        "colab": {
          "base_uri": "https://localhost:8080/"
        },
        "id": "qcIjMvUFiAVj",
        "outputId": "15080c07-a30b-4c99-cf8e-0f3aafce26cf"
      },
      "execution_count": 82,
      "outputs": [
        {
          "output_type": "stream",
          "name": "stdout",
          "text": [
            "Enter first number: 3\n",
            "Enter second number: 2\n",
            "5.0\n",
            "1.0\n",
            "6.0\n",
            "1.5\n"
          ]
        }
      ]
    },
    {
      "cell_type": "markdown",
      "source": [
        "7th tasks"
      ],
      "metadata": {
        "id": "1wWO6hYfr2AE"
      }
    },
    {
      "cell_type": "code",
      "source": [
        "x = 4\n",
        "y = 3\n",
        "print(x,y)\n",
        "x, y = y, x\n",
        "print(x, y)"
      ],
      "metadata": {
        "colab": {
          "base_uri": "https://localhost:8080/"
        },
        "id": "JWYr0l__r5aT",
        "outputId": "c28d200a-9d00-4249-ca20-9c5b7261999c"
      },
      "execution_count": 89,
      "outputs": [
        {
          "output_type": "stream",
          "name": "stdout",
          "text": [
            "4 3\n",
            "3 4\n"
          ]
        }
      ]
    }
  ],
  "metadata": {
    "colab": {
      "name": "Welcome To Colab",
      "toc_visible": true,
      "provenance": [],
      "include_colab_link": true
    },
    "kernelspec": {
      "display_name": "Python 3",
      "name": "python3"
    }
  },
  "nbformat": 4,
  "nbformat_minor": 0
}