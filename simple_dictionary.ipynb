{
  "cells": [
    {
      "cell_type": "markdown",
      "metadata": {
        "id": "view-in-github",
        "colab_type": "text"
      },
      "source": [
        "<a href=\"https://colab.research.google.com/github/mansooraha/landing-page-with-chatbot/blob/main/simple_dictionary.ipynb\" target=\"_parent\"><img src=\"https://colab.research.google.com/assets/colab-badge.svg\" alt=\"Open In Colab\"/></a>"
      ]
    },
    {
      "cell_type": "markdown",
      "source": [
        "1st task"
      ],
      "metadata": {
        "id": "B7O-ADhpcBfB"
      }
    },
    {
      "cell_type": "code",
      "source": [
        "student = {\n",
        "    \"name\": \"Ali\",\n",
        "    \"age\": 20,\n",
        "    \"course\": \"Python Programming\"\n",
        "}\n",
        "\n",
        "for key, value in student.items():\n",
        "    print(key, \":\", value)\n"
      ],
      "metadata": {
        "colab": {
          "base_uri": "https://localhost:8080/"
        },
        "id": "I8SKq8cRcAAf",
        "outputId": "047bb748-fee1-46c5-aa3c-2dd3cdfa6b9a"
      },
      "execution_count": 1,
      "outputs": [
        {
          "output_type": "stream",
          "name": "stdout",
          "text": [
            "name : Ali\n",
            "age : 20\n",
            "course : Python Programming\n"
          ]
        }
      ]
    },
    {
      "cell_type": "markdown",
      "source": [
        "2nd task"
      ],
      "metadata": {
        "id": "vZ6xpyKGb_Nl"
      }
    },
    {
      "cell_type": "code",
      "source": [
        "student[\"grade\"] = \"A\"\n",
        "student[\"age\"] = 21\n",
        "print(student)\n"
      ],
      "metadata": {
        "colab": {
          "base_uri": "https://localhost:8080/"
        },
        "id": "ypkfHgXCcDDe",
        "outputId": "fbda174e-6a97-42a8-a548-61314d85958e"
      },
      "execution_count": 2,
      "outputs": [
        {
          "output_type": "stream",
          "name": "stdout",
          "text": [
            "{'name': 'Ali', 'age': 21, 'course': 'Python Programming', 'grade': 'A'}\n"
          ]
        }
      ]
    },
    {
      "cell_type": "markdown",
      "source": [
        "3rd task"
      ],
      "metadata": {
        "id": "mLa6VJ7-cHu5"
      }
    },
    {
      "cell_type": "code",
      "source": [
        "marks = {\"Math\": 85, \"English\": 78, \"Science\": 92}\n",
        "print(\"Keys:\", marks.keys())\n",
        "print(\"Values:\", marks.values())\n",
        "print(\"Items:\", marks.items())"
      ],
      "metadata": {
        "colab": {
          "base_uri": "https://localhost:8080/"
        },
        "id": "yGlyBY27cES0",
        "outputId": "2f1a0219-ba47-490f-a3a7-2ad1841b8a68"
      },
      "execution_count": 3,
      "outputs": [
        {
          "output_type": "stream",
          "name": "stdout",
          "text": [
            "Keys: dict_keys(['Math', 'English', 'Science'])\n",
            "Values: dict_values([85, 78, 92])\n",
            "Items: dict_items([('Math', 85), ('English', 78), ('Science', 92)])\n"
          ]
        }
      ]
    },
    {
      "cell_type": "markdown",
      "source": [
        "4th task"
      ],
      "metadata": {
        "id": "xCmmYwA0cD-1"
      }
    },
    {
      "cell_type": "code",
      "source": [
        "marks.pop(\"English\")\n",
        "del marks[\"Math\"]\n",
        "marks.clear()\n",
        "print(\"After clearing:\", marks)"
      ],
      "metadata": {
        "colab": {
          "base_uri": "https://localhost:8080/"
        },
        "id": "eA7x9NR_eGiL",
        "outputId": "bc92d73f-59ed-487d-ab19-46d5f6163424"
      },
      "execution_count": 4,
      "outputs": [
        {
          "output_type": "stream",
          "name": "stdout",
          "text": [
            "After clearing: {}\n"
          ]
        }
      ]
    },
    {
      "cell_type": "markdown",
      "source": [
        "5th task"
      ],
      "metadata": {
        "id": "kKc5zZTXeh_k"
      }
    },
    {
      "cell_type": "code",
      "source": [
        "d = {\"x\": 10, \"y\": 20, \"z\": 30}\n",
        "reversed_d = {value: key for key, value in d.items()}\n",
        "print(\"Reversed Dictionary:\", reversed_d)"
      ],
      "metadata": {
        "colab": {
          "base_uri": "https://localhost:8080/"
        },
        "id": "vA0UlVFKehns",
        "outputId": "730d8151-4d02-4602-dcab-53a1a00dd433"
      },
      "execution_count": 5,
      "outputs": [
        {
          "output_type": "stream",
          "name": "stdout",
          "text": [
            "Reversed Dictionary: {10: 'x', 20: 'y', 30: 'z'}\n"
          ]
        }
      ]
    },
    {
      "cell_type": "markdown",
      "source": [
        "6th task"
      ],
      "metadata": {
        "id": "DcdyBrzZepEr"
      }
    },
    {
      "cell_type": "code",
      "source": [
        "employees = {\n",
        "    \"emp1\": {\n",
        "        \"name\": \"Ahmed\",\n",
        "        \"age\": 25,\n",
        "        \"department\": \"IT\"\n",
        "    },\n",
        "    \"emp2\": {\n",
        "        \"name\": \"Sara\",\n",
        "        \"age\": 30,\n",
        "        \"department\": \"HR\"\n",
        "    }\n",
        "}\n",
        "print(\"Second Employee Name:\", employees[\"emp2\"][\"name\"])\n"
      ],
      "metadata": {
        "colab": {
          "base_uri": "https://localhost:8080/"
        },
        "id": "NcWfITIIeomQ",
        "outputId": "9e34b02a-9b7a-4535-b275-be721b9b5f7e"
      },
      "execution_count": 6,
      "outputs": [
        {
          "output_type": "stream",
          "name": "stdout",
          "text": [
            "Second Employee Name: Sara\n"
          ]
        }
      ]
    }
  ],
  "metadata": {
    "colab": {
      "name": "Welcome To Colab",
      "toc_visible": true,
      "provenance": [],
      "include_colab_link": true
    },
    "kernelspec": {
      "display_name": "Python 3",
      "name": "python3"
    }
  },
  "nbformat": 4,
  "nbformat_minor": 0
}